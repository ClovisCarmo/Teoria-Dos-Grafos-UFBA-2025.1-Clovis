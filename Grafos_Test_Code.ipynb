{
  "cells": [
    {
      "cell_type": "markdown",
      "metadata": {
        "id": "9lPNQLVQObWD"
      },
      "source": [
        "# Helpers"
      ]
    },
    {
      "cell_type": "code",
      "execution_count": null,
      "metadata": {
        "id": "imPg1VB_h8AO"
      },
      "outputs": [],
      "source": [
        "from collections import deque\n",
        "import networkx as nx\n",
        "import matplotlib.pyplot as plt\n",
        "import pandas as pd"
      ]
    },
    {
      "cell_type": "code",
      "execution_count": null,
      "metadata": {
        "id": "lvAdVBljmVhp"
      },
      "outputs": [],
      "source": [
        "class DisjointSet:\n",
        "    def __init__(self, elements=None):\n",
        "        self.parent = {}\n",
        "        self.rank = {}\n",
        "        if elements:\n",
        "            for e in elements:\n",
        "                self.parent[e] = e\n",
        "                self.rank[e] = 0\n",
        "\n",
        "    def find(self, x):\n",
        "        if self.parent[x] != x:\n",
        "            self.parent[x] = self.find(self.parent[x])\n",
        "        return self.parent[x]\n",
        "\n",
        "    def union(self, x, y):\n",
        "        xroot = self.find(x)\n",
        "        yroot = self.find(y)\n",
        "        if xroot == yroot:\n",
        "            return\n",
        "        if self.rank[xroot] < self.rank[yroot]:\n",
        "            self.parent[xroot] = yroot\n",
        "        else:\n",
        "            self.parent[yroot] = xroot\n",
        "            if self.rank[xroot] == self.rank[yroot]:\n",
        "                self.rank[xroot] += 1\n",
        "\n",
        "    def is_connected(self, x, y):\n",
        "        return self.find(x) == self.find(y)"
      ]
    },
    {
      "cell_type": "code",
      "execution_count": null,
      "metadata": {
        "id": "C62iqDrDmWN2"
      },
      "outputs": [],
      "source": [
        "def BFS_edges(G, source):\n",
        "    visited = set([source])\n",
        "    queue = deque([source])\n",
        "    while queue:\n",
        "        u = queue.popleft()\n",
        "        for v in G.neighbors(u):\n",
        "            if v not in visited:\n",
        "                visited.add(v)\n",
        "                queue.append(v)\n",
        "                yield (u, v)"
      ]
    },
    {
      "cell_type": "code",
      "execution_count": null,
      "metadata": {
        "id": "iDCfmEs2mWao"
      },
      "outputs": [],
      "source": [
        "class Graph:\n",
        "    def __init__(self):\n",
        "        self.adj_list = {}\n",
        "        self.edge_labels = {}  # edge weights/labels, keys are frozenset({u,v})\n",
        "\n",
        "    def add_vertex(self, v):\n",
        "        if v not in self.adj_list:\n",
        "            self.adj_list[v] = set()\n",
        "\n",
        "    def add_edge(self, u, v, label=None):\n",
        "        self.add_vertex(u)\n",
        "        self.add_vertex(v)\n",
        "        self.adj_list[u].add(v)\n",
        "        self.adj_list[v].add(u)\n",
        "        self.edge_labels[frozenset((u, v))] = label\n",
        "\n",
        "    def nodes(self):\n",
        "      return list(self.adj_list.keys())\n",
        "\n",
        "\n",
        "\n",
        "    def neighbors(self, v):\n",
        "        return self.adj_list.get(v, set())\n",
        "\n",
        "    def min_degree(self):\n",
        "        if not self.adj_list:\n",
        "            return 0\n",
        "        return min(len(neigh) for neigh in self.adj_list.values())\n",
        "\n",
        "    def empty_copy(self):\n",
        "        new_g = Graph()\n",
        "        for v in self.adj_list:\n",
        "            new_g.add_vertex(v)\n",
        "        return new_g\n",
        "\n",
        "    def copy(self):\n",
        "        new_g = self.empty_copy()\n",
        "        for u in self.adj_list:\n",
        "            for v in self.adj_list[u]:\n",
        "                edge = frozenset((u, v))\n",
        "                if edge not in new_g.edge_labels:\n",
        "                    new_g.add_edge(u, v, self.edge_labels.get(edge))\n",
        "        return new_g\n",
        "\n",
        "    def edge_iterator(self, labels=True):\n",
        "        seen = set()\n",
        "        for u in self.adj_list:\n",
        "            for v in self.adj_list[u]:\n",
        "                edge = frozenset((u, v))\n",
        "                if edge not in seen:\n",
        "                    seen.add(edge)\n",
        "                    if labels:\n",
        "                        yield (u, v, self.edge_labels.get(edge))\n",
        "                    else:\n",
        "                        yield (u, v)\n",
        "\n",
        "    def order(self):\n",
        "        return len(self.adj_list)\n",
        "\n",
        "    def size(self):\n",
        "        return sum(len(n) for n in self.adj_list.values())//2\n",
        "\n",
        "    def delete_edge(self, u, v):\n",
        "        if v in self.adj_list.get(u, set()):\n",
        "            self.adj_list[u].remove(v)\n",
        "        if u in self.adj_list.get(v, set()):\n",
        "            self.adj_list[v].remove(u)\n",
        "        self.edge_labels.pop(frozenset((u, v)), None)\n",
        "\n",
        "    def order_by_weight(self, labels=True):\n",
        "        edges = list(self.edge_iterator(labels=True))\n",
        "        edges.sort(key=lambda e: e[2] if e[2] is not None else 1)\n",
        "        if labels:\n",
        "            return edges\n",
        "        else:\n",
        "            return [(u, v) for u, v, _ in edges]\n",
        "\n",
        "    def edges(self, sort=False, labels=False):\n",
        "        edges = list(self.edge_iterator(labels=labels))\n",
        "        if sort and labels:\n",
        "            edges.sort(key=lambda e: e[2] if e[2] is not None else 1)\n",
        "        elif sort and not labels:\n",
        "            edges.sort(key=lambda e: (e[0], e[1]))\n",
        "        return edges\n",
        "\n",
        "    def set_edge_label(self, u, v, label):\n",
        "        self.edge_labels[frozenset((u, v))] = label\n",
        "\n",
        "    def edge_label(self, u, v):\n",
        "        return self.edge_labels.get(frozenset((u, v)))"
      ]
    },
    {
      "cell_type": "code",
      "execution_count": null,
      "metadata": {
        "id": "QHQAIuGEpMsJ"
      },
      "outputs": [],
      "source": [
        "import matplotlib.colors as mcolors\n",
        "\n",
        "\n",
        "def plotting_MSTs(G,trees):\n",
        "    pos = nx.spring_layout(G)\n",
        "    # Get a dictionary of all CSS4 named colors\n",
        "    named_colors_dict = mcolors.CSS4_COLORS\n",
        "\n",
        "    # Extract the color names into a list\n",
        "    colors = list(named_colors_dict.keys())\n",
        "\n",
        "    for i, tree in enumerate(trees, 1):\n",
        "        nx.draw_networkx_edges(tree,pos,edge_color=colors[i-1],width = 0.5, alpha=1)\n",
        "    nx.draw_networkx_nodes(G,pos, alpha=1, node_size = 6, node_color='m')\n",
        "    plt.show()"
      ]
    },
    {
      "cell_type": "code",
      "execution_count": null,
      "metadata": {
        "id": "0HUoB61apMy3"
      },
      "outputs": [],
      "source": [
        "def to_networkx_graph(g):\n",
        "    nx_g = nx.Graph()\n",
        "    # adiciona os nós\n",
        "    nx_g.add_nodes_from(g.nodes())\n",
        "    # adiciona as arestas com label/peso, se houver\n",
        "    for u, v, label in g.edge_iterator(labels=True):\n",
        "        if label is not None:\n",
        "            nx_g.add_edge(u, v, weight=label)\n",
        "        else:\n",
        "            nx_g.add_edge(u, v)\n",
        "    return nx_g"
      ]
    },
    {
      "cell_type": "code",
      "execution_count": null,
      "metadata": {
        "id": "P8d2-0S8pM22"
      },
      "outputs": [],
      "source": [
        "def from_networkx_graph(nx_graph):\n",
        "    custom_g = Graph()\n",
        "    for node in nx_graph.nodes():\n",
        "        custom_g.add_vertex(node)\n",
        "    for u, v, data in nx_graph.edges(data=True):\n",
        "        label = data.get('weight') if 'weight' in data else None\n",
        "        custom_g.add_edge(u, v, label)\n",
        "    return custom_g"
      ]
    },
    {
      "cell_type": "code",
      "execution_count": null,
      "metadata": {
        "id": "kxXWMX8itsag"
      },
      "outputs": [],
      "source": [
        "def run_dataset(dataset, algorithm, n_runs):\n",
        " res = []\n",
        " for j in range(1, n_runs+1):\n",
        "  for i, G in enumerate(dataset):\n",
        "      G_graph = from_networkx_graph(G)\n",
        "      F = algorithm(G_graph, k=j, weights=True)\n",
        "      res.append(F)\n",
        "      # print(len(F))\n",
        "      # for j, tree in enumerate(F, 1):\n",
        "        # print(f\"Spanning Tree {j} edges:\", tree.edges(labels=True))\n",
        "        # total_weight = sum(label for _, _, label in tree.edges(labels=True))\n",
        "        # print(f\"Total weight: {total_weight}\")\n",
        "\n",
        "      # trees = [to_networkx_graph(tree) for tree in F]\n",
        "\n",
        "      # G_graph = to_networkx_graph(G_graph)\n",
        "\n",
        "      # plotting_MSTs(G_graph,trees)\n",
        "  return res"
      ]
    },
    {
      "cell_type": "markdown",
      "metadata": {
        "id": "0Im4IaS0tBFg"
      },
      "source": [
        "# Kruskal"
      ]
    },
    {
      "cell_type": "code",
      "execution_count": null,
      "metadata": {
        "id": "mM1xBlR3pM5X"
      },
      "outputs": [],
      "source": [
        "def kruskal(edges, n):\n",
        "  res = []\n",
        "  st = DisjointSet(elements=range(n))\n",
        "  i = 0\n",
        "  l = len(edges)\n",
        "  while i < l:\n",
        "    u, v, weight = edges[i]\n",
        "    x = st.find(u)\n",
        "    y = st.find(v)\n",
        "\n",
        "    if x != y:\n",
        "        res.append((u, v, weight))\n",
        "        st.union(x, y)\n",
        "        edges.remove(edges[i])\n",
        "        l -= 1\n",
        "    else:\n",
        "        i += 1\n",
        "\n",
        "  tree = Graph()\n",
        "  for edge in res:\n",
        "    tree.add_edge(*edge)\n",
        "\n",
        "  return tree, edges\n",
        "\n",
        "def modified_kruskal(G,  k, weights=True):\n",
        "   F = []\n",
        "   i, n = 0, len(G.adj_list)\n",
        "   edges = G.order_by_weight()\n",
        "\n",
        "   while i < k:\n",
        "    res_i, edges = kruskal(edges, n)\n",
        "    if len(res_i.edges()) != n-1:\n",
        "      break\n",
        "\n",
        "    F.append(res_i)\n",
        "    i += 1\n",
        "\n",
        "\n",
        "   res = [F[j] for j in range(i)]\n",
        "   return res\n"
      ]
    },
    {
      "cell_type": "markdown",
      "metadata": {
        "id": "ANPGWZq7tN9_"
      },
      "source": [
        "# Roskind-Tarjan"
      ]
    },
    {
      "cell_type": "code",
      "execution_count": null,
      "metadata": {
        "id": "9wEGeFwftbko"
      },
      "outputs": [],
      "source": [
        "def edge_disjoint_spanning_trees(G, k, weights=False):\n",
        "    # print(f\"Starting edge_disjoint_spanning_trees with k={k}\")\n",
        "    if k > 1 + G.min_degree() // 2:\n",
        "        raise ValueError(\"this graph does not contain the required number of trees/arborescences\")\n",
        "\n",
        "    # Inicializa DisjointSets para manter as partições dos grafos.\n",
        "    partition = [DisjointSet(G.nodes()) for _ in range(k + 1)]\n",
        "\n",
        "    # Mapeamento de cada aresta para a floresta na qual ela está contida.\n",
        "    edge_index = {frozenset(e): 0 for e in G.edge_iterator(labels=False)}\n",
        "\n",
        "    # Cópia vazia do grafo para construir as florestas.\n",
        "    G_spanning = G.empty_copy()\n",
        "    F = [G_spanning.copy() for _ in range(k + 1)]\n",
        "\n",
        "    if weights:\n",
        "        edges_ordered = list(G.order_by_weight(labels=True))\n",
        "        # print(\"Edges ordered (with weights):\")\n",
        "        # print(edges_ordered)\n",
        "        edge_weights = {frozenset((u, v)): w for u, v, w in edges_ordered}\n",
        "    else:\n",
        "        edges_ordered = list(G.order_by_weight(labels=False))\n",
        "        edge_weights = {frozenset((u, v)): None for u, v in edges_ordered}\n",
        "\n",
        "    for idx, edge in enumerate(edges_ordered, 1):\n",
        "        if weights:\n",
        "            x, y, w = edge\n",
        "        else:\n",
        "            x, y = edge\n",
        "            w = None\n",
        "\n",
        "        # Se os dois vértices já estão unidos em partition[0] (o clump global), ignora a aresta.\n",
        "        if partition[0].find(x) == partition[0].find(y):\n",
        "            continue\n",
        "\n",
        "        edge_label = {}\n",
        "        queue = [(x, y)]\n",
        "        queue_begin = 0\n",
        "        queue_end = 1\n",
        "\n",
        "        # p[i] armazenará os predecessores (raiz x) na floresta F[i] obtida por BFS.\n",
        "        p = [{x: x} for _ in range(k + 1)]\n",
        "        for i in range(1, k + 1):\n",
        "            for u, v in BFS_edges(F[i], x):\n",
        "                p[i][v] = u\n",
        "\n",
        "        augmenting_sequence_found = False\n",
        "\n",
        "        while queue_begin < queue_end:\n",
        "            e = queue[queue_begin]\n",
        "            queue_begin += 1\n",
        "            fe = frozenset(e)\n",
        "            # Escolhe a floresta i com base em edge_index (alternando de 1 a k)\n",
        "            i = (edge_index[fe] % k) + 1\n",
        "            v, w_ = e\n",
        "\n",
        "            if partition[i].find(v) != partition[i].find(w_):\n",
        "                augmenting_sequence_found = True\n",
        "                break\n",
        "            else:\n",
        "                if v == x or (v in p[i] and frozenset((v, p[i][v])) in edge_label):\n",
        "                    u = w_\n",
        "                else:\n",
        "                    u = v\n",
        "                edges_to_label = []\n",
        "                while u != x and (u in p[i] and frozenset((u, p[i][u])) not in edge_label):\n",
        "                    edges_to_label.append((u, p[i][u]))\n",
        "                    u = p[i][u]\n",
        "\n",
        "                while edges_to_label:\n",
        "                    ep = edges_to_label.pop()\n",
        "                    edge_label[frozenset(ep)] = fe\n",
        "                    queue.append(ep)\n",
        "                    queue_end += 1\n",
        "\n",
        "        if augmenting_sequence_found:\n",
        "            # Atualiza a partição da floresta i incrementando com a aresta atual\n",
        "            partition[i].union(v, w_)\n",
        "\n",
        "            # Loop de augmentação: troca arestas entre florestas de forma incremental\n",
        "            while fe in edge_label:\n",
        "                old_forest = edge_index[fe]\n",
        "                u, vv = tuple(fe)\n",
        "                # Remove aresta da floresta antiga\n",
        "                F[old_forest].delete_edge(u, vv)\n",
        "                # Adiciona aresta na floresta i com o peso apropriado\n",
        "                F[i].add_edge(u, vv, edge_weights[frozenset((u, vv))])\n",
        "                # Atualização incremental: une u e vv na partição da floresta i\n",
        "                partition[i].union(u, vv)\n",
        "                # Rotaciona as variáveis para a próxima iteração da sequência aumentante\n",
        "                e, edge_index[fe], i = edge_label[fe], i, edge_index[fe]\n",
        "                fe = frozenset(e)\n",
        "\n",
        "            u, vv = tuple(e)\n",
        "            F[i].add_edge(u, vv, edge_weights[frozenset(e)])\n",
        "            edge_index[frozenset(e)] = i\n",
        "            partition[i].union(u, vv)\n",
        "        else:\n",
        "            partition[0].union(x, y)\n",
        "\n",
        "    res = [F[i] for i in range(1, k + 1) if F[i].size() == G.order() - 1]\n",
        "\n",
        "    if len(res) != k:\n",
        "        raise ValueError(\"There is no solution!\")\n",
        "\n",
        "    for f in res:\n",
        "        for u, v, label in f.edges(labels=True):\n",
        "            f.set_edge_label(u, v, edge_weights[frozenset((u, v))])\n",
        "\n",
        "    return res"
      ]
    },
    {
      "cell_type": "markdown",
      "metadata": {
        "id": "MGnWjV3Bt-0g"
      },
      "source": [
        "# Test Code"
      ]
    },
    {
      "cell_type": "code",
      "execution_count": null,
      "metadata": {
        "id": "oTxqVC_K6Vep"
      },
      "outputs": [],
      "source": [
        "df = pd.read_pickle(\"dataset-grafos-trab-final.pkl\")\n",
        "dataset_total = df['graph']"
      ]
    },
    {
      "cell_type": "code",
      "execution_count": null,
      "metadata": {
        "colab": {
          "background_save": true
        },
        "id": "_XIA_ZUZsCaH"
      },
      "outputs": [],
      "source": [
        "%timeit -r 100 res = run_dataset(dataset_total, edge_disjoint_spanning_trees, 4)"
      ]
    },
    {
      "cell_type": "markdown",
      "metadata": {
        "id": "brWcGwdLyQ6f"
      },
      "source": [
        "# Results:\n",
        "* Tempo total de execução (100 repetições):\n",
        "  * Kruskal: 734 ms ± 161 ms per loop (mean ± std. dev. of 100 runs)"
      ]
    }
  ],
  "metadata": {
    "colab": {
      "provenance": []
    },
    "kernelspec": {
      "display_name": "Python 3",
      "name": "python3"
    },
    "language_info": {
      "name": "python"
    }
  },
  "nbformat": 4,
  "nbformat_minor": 0
}